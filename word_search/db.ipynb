{
 "cells": [
  {
   "cell_type": "code",
   "execution_count": 2,
   "id": "1995c186",
   "metadata": {},
   "outputs": [],
   "source": [
    "import psycopg2"
   ]
  },
  {
   "cell_type": "code",
   "execution_count": 41,
   "id": "e8965cea",
   "metadata": {},
   "outputs": [],
   "source": [
    "#http://127.0.0.1:5000/report?word=%EC%BD%94%EB%A1%9C%EB%82%98\n",
    "conn = psycopg2.connect(host='localhost',\n",
    "               dbname='test', \n",
    "               user='postgres', \n",
    "               password='1234',\n",
    "               port=5433)\n",
    "               \n",
    "cur = conn.cursor()"
   ]
  },
  {
   "cell_type": "code",
   "execution_count": 42,
   "id": "c9af5121",
   "metadata": {},
   "outputs": [],
   "source": [
    "cur = conn.cursor()"
   ]
  },
  {
   "cell_type": "code",
   "execution_count": 43,
   "id": "4d7383c1",
   "metadata": {},
   "outputs": [],
   "source": [
    "cur.execute(\"create table ggsearch(word char(50), count float);\")"
   ]
  },
  {
   "cell_type": "code",
   "execution_count": 44,
   "id": "512dd544",
   "metadata": {},
   "outputs": [],
   "source": [
    "with open('./google_keyword.csv', 'r') as f:\n",
    "    next(f) # Skip the header row.\n",
    "    #f , <database name>, Comma-Seperated\n",
    "    cur.copy_from(f, 'ggsearch', sep=',')\n",
    "    #Commit Changes\n",
    "    conn.commit()\n",
    "    #Close connection\n",
    "    conn.close()\n",
    "    \n",
    "f.close()"
   ]
  }
 ],
 "metadata": {
  "kernelspec": {
   "display_name": "Python 3 (ipykernel)",
   "language": "python",
   "name": "python3"
  },
  "language_info": {
   "codemirror_mode": {
    "name": "ipython",
    "version": 3
   },
   "file_extension": ".py",
   "mimetype": "text/x-python",
   "name": "python",
   "nbconvert_exporter": "python",
   "pygments_lexer": "ipython3",
   "version": "3.7.13"
  }
 },
 "nbformat": 4,
 "nbformat_minor": 5
}
